{
 "cells": [
  {
   "cell_type": "code",
   "execution_count": 1,
   "metadata": {},
   "outputs": [],
   "source": [
    "import cv2\n",
    "import os\n",
    "import time"
   ]
  },
  {
   "cell_type": "code",
   "execution_count": 2,
   "metadata": {},
   "outputs": [],
   "source": [
    "face_cascade = cv2.CascadeClassifier(\"haarcascade/haarcascade_frontalface_default.xml\")\n",
    "noseCascade = cv2.CascadeClassifier(\"haarcascade/Nariz.xml\")\n",
    "mouth_cascade = cv2.CascadeClassifier('haarcascade/haarcascade_mcs_mouth.xml')\n",
    "face_mask = cv2.CascadeClassifier(\"cascadedownload/cascade.xml\")"
   ]
  },
  {
   "cell_type": "code",
   "execution_count": 3,
   "metadata": {},
   "outputs": [
    {
     "ename": "NameError",
     "evalue": "name 'mouth_rects' is not defined",
     "output_type": "error",
     "traceback": [
      "\u001b[1;31m---------------------------------------------------------------------------\u001b[0m",
      "\u001b[1;31mNameError\u001b[0m                                 Traceback (most recent call last)",
      "Cell \u001b[1;32mIn [3], line 29\u001b[0m\n\u001b[0;32m     25\u001b[0m     nose_rects \u001b[39m=\u001b[39m noseCascade\u001b[39m.\u001b[39mdetectMultiScale(gray, \u001b[39m1.5\u001b[39m, \u001b[39m5\u001b[39m)\n\u001b[0;32m     27\u001b[0m     mask_rects \u001b[39m=\u001b[39m face_mask\u001b[39m.\u001b[39mdetectMultiScale(gray, \u001b[39m1.5\u001b[39m, \u001b[39m5\u001b[39m)\n\u001b[1;32m---> 29\u001b[0m \u001b[39mif\u001b[39;00m(\u001b[39mlen\u001b[39m(mouth_rects) \u001b[39m==\u001b[39m \u001b[39m0\u001b[39m \u001b[39mand\u001b[39;00m \u001b[39mlen\u001b[39m(nose_rects) \u001b[39m==\u001b[39m \u001b[39m0\u001b[39m):\n\u001b[0;32m     30\u001b[0m     cv2\u001b[39m.\u001b[39mputText(img,\u001b[39m'\u001b[39m\u001b[39mMenggunakan Masker\u001b[39m\u001b[39m'\u001b[39m,(\u001b[39m170\u001b[39m,\u001b[39m50\u001b[39m),font,\u001b[39m1\u001b[39m,(\u001b[39m0\u001b[39m,\u001b[39m255\u001b[39m,\u001b[39m0\u001b[39m),\u001b[39m2\u001b[39m)\n\u001b[0;32m     31\u001b[0m     cv2\u001b[39m.\u001b[39mputText(img,\u001b[39m'\u001b[39m\u001b[39m100\u001b[39m\u001b[39m%\u001b[39m\u001b[39m'\u001b[39m,(\u001b[39m50\u001b[39m,\u001b[39m250\u001b[39m),font,\u001b[39m1\u001b[39m,(\u001b[39m250\u001b[39m,\u001b[39m255\u001b[39m,\u001b[39m0\u001b[39m),\u001b[39m2\u001b[39m)\n",
      "\u001b[1;31mNameError\u001b[0m: name 'mouth_rects' is not defined"
     ]
    }
   ],
   "source": [
    "bw_threshold = 100\n",
    "font = cv2.FONT_HERSHEY_SIMPLEX\n",
    "cap = cv2.VideoCapture(0)\n",
    "\n",
    "while 1:\n",
    "    ret, img = cap.read()\n",
    "    img = cv2.flip(img,1)\n",
    "\n",
    "    gray = cv2.cvtColor(img, cv2.COLOR_BGR2GRAY)\n",
    "    \n",
    "    (thresh, black_and_white) = cv2.threshold(gray, bw_threshold, 255, cv2.THRESH_BINARY)\n",
    "    cv2.imshow('black_and_white', black_and_white)\n",
    "\n",
    "    faces = face_cascade.detectMultiScale(gray, 1.1, 4)\n",
    "\n",
    "    faces_bw = face_cascade.detectMultiScale(black_and_white, 1.1, 4)\n",
    "\n",
    "    if(len(faces) == 0 and len(faces_bw) == 0):\n",
    "        cv2.putText(img,'Tidak Ada Orang',(250,50),font,1,(255,0,0),2)\n",
    "    else:\n",
    "        for (x, y, w, h) in faces:\n",
    "           \n",
    "            mouth_rects = mouth_cascade.detectMultiScale(gray, 1.5, 5)\n",
    "            \n",
    "            nose_rects = noseCascade.detectMultiScale(gray, 1.5, 5)\n",
    "            \n",
    "            mask_rects = face_mask.detectMultiScale(gray, 1.5, 5)\n",
    "            \n",
    "        if(len(mouth_rects) == 0 and len(nose_rects) == 0):\n",
    "            cv2.putText(img,'Menggunakan Masker',(170,50),font,1,(0,255,0),2)\n",
    "            cv2.putText(img,'100%',(50,250),font,1,(250,255,0),2)\n",
    "            cv2.putText(img,'Hidung Dan Mulut Tertup',(150,450),font,1,(250,255,0),2)\n",
    "            cv2.rectangle(img, (x, y), (x + w, y + h), (0,255,0), 5)\n",
    "            \n",
    "            for (mx, my, mw, mh) in mask_rects:\n",
    "                if(y < my < y + h):\n",
    "                    cv2.putText(img,'Masker',(mx,my),font,0.5,(250,255,0),2)\n",
    "                    cv2.rectangle(img, (mx, my), (mx + mw, my + mh), (250,255,0), 2)\n",
    "                    break\n",
    "        \n",
    "        elif(len(mouth_rects) == 0 and len(nose_rects) != 0):\n",
    "            cv2.putText(img,'Pengunaan Masker Salah',(150,50),font,1,(0, 255, 255),2)\n",
    "            cv2.putText(img,'50%',(50,250),font,1,(250,255,0),2)\n",
    "            cv2.putText(img,'Hidung Tidak Tertup',(150,450),font,1,(0, 0, 255),2)\n",
    "            cv2.rectangle(img, (x, y), (x + w, y + h), (0,255,255), 5)\n",
    "            #os.system(\"start alert.mp3\")\n",
    "            time.sleep(1)\n",
    "\n",
    "\n",
    "            for (mx, my, mw, mh) in nose_rects:\n",
    "                if(y < my < y + h):\n",
    "                    cv2.rectangle(img, (mx, my), (mx + mw, my + mh), (0, 0, 255), 2)\n",
    "                    break\n",
    "            \n",
    "        elif(len(mouth_rects) != 0 and len(nose_rects) == 0):\n",
    "            cv2.putText(img,'Pengunaan Masker Salah',(150,50),font,1,(0, 251, 255),2)\n",
    "            cv2.putText(img,'50%',(50,250),font,1,(250,255,0),2)\n",
    "            cv2.putText(img,'Mulut tidak Tertup',(150,450),font,1,(0, 0, 255),2)\n",
    "            cv2.rectangle(img, (x, y), (x + w, y + h), (0,255,255), 5)\n",
    "            #os.system(\"start alert.mp3\")\n",
    "            time.sleep(1)\n",
    "            \n",
    "            for (mx, my, mw, mh) in mouth_rects:\n",
    "                if(y < my < y + h):\n",
    "                    cv2.rectangle(img, (mx, my), (mx + mw, my + mh), (0, 0, 255), 2)\n",
    "                    break\n",
    "            \n",
    "        else:\n",
    "            for (mx, my, mw, mh) in mouth_rects:\n",
    "                if(y < my < y + h):\n",
    "                    cv2.rectangle(img, (mx, my), (mx + mw, my + mh), (0, 0, 255), 2)\n",
    "                    break\n",
    "                    \n",
    "            for (mx, my, mw, mh) in nose_rects:\n",
    "                if(y < my < y + h):\n",
    "                    cv2.rectangle(img, (mx, my), (mx + mw, my + mh), (0, 0, 255), 2)\n",
    "                    break\n",
    "                    \n",
    "            cv2.putText(img,'Tidak Menggunakan Masker',(150,50),font,1,(0, 0, 255),2)\n",
    "            cv2.rectangle(img, (x, y), (x + w, y + h), (0,0,255), 5)\n",
    "\n",
    "    cv2.imshow('Deteksi Masker', img)\n",
    "    k = cv2.waitKey(30) & 0xff\n",
    "    if k == 27:\n",
    "        break\n",
    "\n",
    "cap.release()\n",
    "cv2.destroyAllWindows()"
   ]
  },
  {
   "cell_type": "code",
   "execution_count": null,
   "metadata": {},
   "outputs": [],
   "source": []
  }
 ],
 "metadata": {
  "kernelspec": {
   "display_name": "pcd",
   "language": "python",
   "name": "python3"
  },
  "language_info": {
   "codemirror_mode": {
    "name": "ipython",
    "version": 3
   },
   "file_extension": ".py",
   "mimetype": "text/x-python",
   "name": "python",
   "nbconvert_exporter": "python",
   "pygments_lexer": "ipython3",
   "version": "3.9.13 | packaged by conda-forge | (main, May 27 2022, 16:50:36) [MSC v.1929 64 bit (AMD64)]"
  },
  "vscode": {
   "interpreter": {
    "hash": "d644d943a617c7f0662df203a98e8eaf3b73e06a99b0598f7b3e05781e657633"
   }
  }
 },
 "nbformat": 4,
 "nbformat_minor": 4
}
